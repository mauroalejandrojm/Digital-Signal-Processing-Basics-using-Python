{
 "cells": [
  {
   "cell_type": "markdown",
   "metadata": {},
   "source": [
    "### OOP in Python \n",
    "### Using pyQt5 and another Stuff \n",
    "### Created By Mauro Jimenez "
   ]
  },
  {
   "cell_type": "markdown",
   "metadata": {},
   "source": [
    "#### Examples:"
   ]
  },
  {
   "cell_type": "code",
   "execution_count": 10,
   "metadata": {},
   "outputs": [
    {
     "data": {
      "text/plain": [
       "True"
      ]
     },
     "execution_count": 10,
     "metadata": {},
     "output_type": "execute_result"
    }
   ],
   "source": [
    "#OOP in python\n",
    "\n",
    "class A(object):\n",
    "    def __init__(self):\n",
    "        self.lst = []\n",
    "\n",
    "class B(object):\n",
    "    lst = []\n",
    "\n",
    "x = B()\n",
    "y = B()\n",
    "x.lst.append(1)\n",
    "y.lst.append(2)\n",
    "y.lst\n",
    "x.lst is y.lst"
   ]
  },
  {
   "cell_type": "code",
   "execution_count": 1,
   "metadata": {},
   "outputs": [
    {
     "ename": "SystemExit",
     "evalue": "0",
     "output_type": "error",
     "traceback": [
      "An exception has occurred, use %tb to see the full traceback.\n",
      "\u001b[0;31mSystemExit\u001b[0m\u001b[0;31m:\u001b[0m 0\n"
     ]
    },
    {
     "name": "stderr",
     "output_type": "stream",
     "text": [
      "/usr/local/lib/python3.7/site-packages/IPython/core/interactiveshell.py:3304: UserWarning: To exit: use 'exit', 'quit', or Ctrl-D.\n",
      "  warn(\"To exit: use 'exit', 'quit', or Ctrl-D.\", stacklevel=1)\n"
     ]
    }
   ],
   "source": [
    "import sys\n",
    "from PyQt5.QtWidgets import QApplication, QWidget\n",
    "\n",
    "\n",
    "if __name__ == '__main__':\n",
    "    \n",
    "    app = QApplication(sys.argv)\n",
    "\n",
    "    w = QWidget()\n",
    "    w.resize(250, 150)\n",
    "    w.move(300, 300)\n",
    "    w.setWindowTitle('Hello World')\n",
    "    w.show()\n",
    "    \n",
    "    sys.exit(app.exec_())"
   ]
  },
  {
   "cell_type": "code",
   "execution_count": 1,
   "metadata": {},
   "outputs": [
    {
     "ename": "SystemExit",
     "evalue": "0",
     "output_type": "error",
     "traceback": [
      "An exception has occurred, use %tb to see the full traceback.\n",
      "\u001b[0;31mSystemExit\u001b[0m\u001b[0;31m:\u001b[0m 0\n"
     ]
    },
    {
     "name": "stderr",
     "output_type": "stream",
     "text": [
      "/usr/local/lib/python3.7/site-packages/IPython/core/interactiveshell.py:3304: UserWarning: To exit: use 'exit', 'quit', or Ctrl-D.\n",
      "  warn(\"To exit: use 'exit', 'quit', or Ctrl-D.\", stacklevel=1)\n"
     ]
    }
   ],
   "source": [
    "import sys\n",
    "from PyQt5.QtWidgets import (QWidget, QToolTip, \n",
    "    QPushButton, QApplication)\n",
    "from PyQt5.QtGui import QFont    \n",
    "\n",
    "\n",
    "class Example(QWidget):\n",
    "    \n",
    "    def __init__(self):\n",
    "        super().__init__()\n",
    "        \n",
    "        self.initUI()\n",
    "        \n",
    "        \n",
    "    def initUI(self):\n",
    "        \n",
    "        QToolTip.setFont(QFont('SansSerif', 10))\n",
    "        \n",
    "        self.setToolTip('This is a <b>QWidget</b> widget')\n",
    "        \n",
    "        btn = QPushButton('Button', self)\n",
    "        btn.setToolTip('This is a <b>QPushButton</b> widget')\n",
    "        btn.resize(btn.sizeHint())\n",
    "        btn.move(50, 50)       \n",
    "        \n",
    "        self.setGeometry(300, 300, 300, 200)\n",
    "        self.setWindowTitle('Tooltips')    \n",
    "        self.show()\n",
    "        \n",
    "        \n",
    "if __name__ == '__main__':\n",
    "    \n",
    "    app = QApplication(sys.argv)\n",
    "    ex = Example()\n",
    "    sys.exit(app.exec_())"
   ]
  },
  {
   "cell_type": "code",
   "execution_count": 1,
   "metadata": {},
   "outputs": [
    {
     "ename": "SystemExit",
     "evalue": "0",
     "output_type": "error",
     "traceback": [
      "An exception has occurred, use %tb to see the full traceback.\n",
      "\u001b[0;31mSystemExit\u001b[0m\u001b[0;31m:\u001b[0m 0\n"
     ]
    },
    {
     "name": "stderr",
     "output_type": "stream",
     "text": [
      "/usr/local/lib/python3.7/site-packages/IPython/core/interactiveshell.py:3304: UserWarning: To exit: use 'exit', 'quit', or Ctrl-D.\n",
      "  warn(\"To exit: use 'exit', 'quit', or Ctrl-D.\", stacklevel=1)\n"
     ]
    }
   ],
   "source": [
    "import sys\n",
    "import time\n",
    "\n",
    "from PyQt5.QtCore import QThread, pyqtSignal\n",
    "from PyQt5.QtWidgets import (QApplication, QDialog,\n",
    "                             QProgressBar, QPushButton)\n",
    "\n",
    "TIME_LIMIT = 100\n",
    "\n",
    "class External(QThread):\n",
    "    \"\"\"\n",
    "    Runs a counter thread.\n",
    "    \"\"\"\n",
    "    countChanged = pyqtSignal(int)\n",
    "\n",
    "    def run(self):\n",
    "        count = 0\n",
    "        while count < TIME_LIMIT:\n",
    "            count +=1\n",
    "            time.sleep(1)\n",
    "            self.countChanged.emit(count)\n",
    "\n",
    "class Actions(QDialog):\n",
    "    \"\"\"\n",
    "    Simple dialog that consists of a Progress Bar and a Button.\n",
    "    Clicking on the button results in the start of a timer and\n",
    "    updates the progress bar.\n",
    "    \"\"\"\n",
    "    def __init__(self):\n",
    "        super().__init__()\n",
    "        self.initUI()\n",
    "        \n",
    "    def initUI(self):\n",
    "        self.setWindowTitle('Progress Bar')\n",
    "        self.progress = QProgressBar(self)\n",
    "        self.progress.setGeometry(0, 0, 300, 25)\n",
    "        self.progress.setMaximum(100)\n",
    "        self.button = QPushButton('Start', self)\n",
    "        self.button.move(0, 30)\n",
    "        self.show()\n",
    "\n",
    "        self.button.clicked.connect(self.onButtonClick)\n",
    "\n",
    "    def onButtonClick(self):\n",
    "        self.calc = External()\n",
    "        self.calc.countChanged.connect(self.onCountChanged)\n",
    "        self.calc.start()\n",
    "\n",
    "    def onCountChanged(self, value):\n",
    "        self.progress.setValue(value)\n",
    "\n",
    "if __name__ == \"__main__\":\n",
    "    app = QApplication(sys.argv)\n",
    "    window = Actions()\n",
    "    sys.exit(app.exec_())"
   ]
  },
  {
   "cell_type": "code",
   "execution_count": 1,
   "metadata": {},
   "outputs": [
    {
     "ename": "SystemExit",
     "evalue": "0",
     "output_type": "error",
     "traceback": [
      "An exception has occurred, use %tb to see the full traceback.\n",
      "\u001b[0;31mSystemExit\u001b[0m\u001b[0;31m:\u001b[0m 0\n"
     ]
    },
    {
     "name": "stderr",
     "output_type": "stream",
     "text": [
      "/usr/local/lib/python3.7/site-packages/IPython/core/interactiveshell.py:3304: UserWarning: To exit: use 'exit', 'quit', or Ctrl-D.\n",
      "  warn(\"To exit: use 'exit', 'quit', or Ctrl-D.\", stacklevel=1)\n"
     ]
    }
   ],
   "source": [
    "from PyQt5 import QtWidgets, QtGui,QtCore\n",
    " \n",
    "from mydesign import Ui_MainWindow\n",
    " \n",
    "import sys\n",
    " \n",
    "class mywindow(QtWidgets.QMainWindow):\n",
    " \n",
    "    def __init__(self):\n",
    "    \n",
    "        super(mywindow, self).__init__()\n",
    "        \n",
    "        self.ui = Ui_MainWindow()\n",
    "        \n",
    "        self.ui.setupUi(self)\n",
    "        \n",
    "        self.ui.label1.setFont(QtGui.QFont('SansSerif', 30))\n",
    "        \n",
    "        self.ui.label1.setGeometry(QtCore.QRect(10, 10, 200, 200))\n",
    "        \n",
    "        self.ui.label1.setStyleSheet(\"color: #FFAA00;\")\n",
    "        \n",
    "        self.ui.label1.setText(\"LikeGeeks\") #change label text\n",
    " \n",
    " \n",
    "app = QtWidgets.QApplication([])\n",
    " \n",
    "application = mywindow()\n",
    " \n",
    "application.show()\n",
    " \n",
    "sys.exit(app.exec())"
   ]
  },
  {
   "cell_type": "code",
   "execution_count": 1,
   "metadata": {},
   "outputs": [
    {
     "ename": "SystemExit",
     "evalue": "0",
     "output_type": "error",
     "traceback": [
      "An exception has occurred, use %tb to see the full traceback.\n",
      "\u001b[0;31mSystemExit\u001b[0m\u001b[0;31m:\u001b[0m 0\n"
     ]
    },
    {
     "name": "stderr",
     "output_type": "stream",
     "text": [
      "/usr/local/lib/python3.7/site-packages/IPython/core/interactiveshell.py:3304: UserWarning: To exit: use 'exit', 'quit', or Ctrl-D.\n",
      "  warn(\"To exit: use 'exit', 'quit', or Ctrl-D.\", stacklevel=1)\n"
     ]
    }
   ],
   "source": [
    "from PyQt5 import QtWidgets, QtGui, QtCore\n",
    " \n",
    "from mydesign import Ui_MainWindow\n",
    " \n",
    "import sys\n",
    " \n",
    "class mywindow(QtWidgets.QMainWindow):\n",
    " \n",
    "    def __init__(self):\n",
    " \n",
    "        super(mywindow, self).__init__()\n",
    " \n",
    "        self.ui = Ui_MainWindow()\n",
    " \n",
    "        self.ui.setupUi(self)\n",
    "    \n",
    "        self.ui.label.setFont(QtGui.QFont('SansSerif', 30))\n",
    "        \n",
    "        self.ui.label.setGeometry(QtCore.QRect(10, 10, 400, 200))\n",
    " \n",
    "        self.ui.pushButton.clicked.connect(self.btnClicked) # connecting the clicked signal with btnClicked slot\n",
    " \n",
    "    def btnClicked(self):\n",
    " \n",
    "        self.ui.label.setText(\"Button Clicked\")\n",
    " \n",
    " \n",
    "app = QtWidgets.QApplication([])\n",
    " \n",
    "application = mywindow()\n",
    " \n",
    "application.show()\n",
    " \n",
    "sys.exit(app.exec())"
   ]
  },
  {
   "cell_type": "code",
   "execution_count": 2,
   "metadata": {},
   "outputs": [],
   "source": [
    "from PyQt5.QtCore import pyqtSignal,QObject\n",
    " \n",
    "class nut(QObject):\n",
    " \n",
    "    cracked = pyqtSignal()\n",
    "    \n",
    "    def __init__(self):\n",
    "    \n",
    "        QObject.__init__(self)\n",
    "    \n",
    "    def crack(self):\n",
    "    \n",
    "        self.cracked.emit()\n",
    "        \n",
    "def crackit():\n",
    " \n",
    "    print(\"hazelnut cracked!\")\n",
    " \n",
    "hazelnut = nut()\n",
    " \n",
    "hazelnut.cracked.connect(crackit) # connecting the cracked signal with crackit slot\n",
    " \n",
    "hazelnut.crack()"
   ]
  },
  {
   "cell_type": "code",
   "execution_count": 1,
   "metadata": {},
   "outputs": [
    {
     "name": "stdout",
     "output_type": "stream",
     "text": [
      "First item\n",
      "Second item\n"
     ]
    },
    {
     "ename": "KeyboardInterrupt",
     "evalue": "",
     "output_type": "error",
     "traceback": [
      "\u001b[0;31m---------------------------------------------------------------------------\u001b[0m",
      "\u001b[0;31mKeyboardInterrupt\u001b[0m                         Traceback (most recent call last)",
      "\u001b[0;32m<ipython-input-1-33b9986ab99a>\u001b[0m in \u001b[0;36m<module>\u001b[0;34m\u001b[0m\n\u001b[1;32m     28\u001b[0m \u001b[0mapplication\u001b[0m\u001b[0;34m.\u001b[0m\u001b[0mshow\u001b[0m\u001b[0;34m(\u001b[0m\u001b[0;34m)\u001b[0m\u001b[0;34m\u001b[0m\u001b[0;34m\u001b[0m\u001b[0m\n\u001b[1;32m     29\u001b[0m \u001b[0;34m\u001b[0m\u001b[0m\n\u001b[0;32m---> 30\u001b[0;31m \u001b[0msys\u001b[0m\u001b[0;34m.\u001b[0m\u001b[0mexit\u001b[0m\u001b[0;34m(\u001b[0m\u001b[0mapp\u001b[0m\u001b[0;34m.\u001b[0m\u001b[0mexec\u001b[0m\u001b[0;34m(\u001b[0m\u001b[0;34m)\u001b[0m\u001b[0;34m)\u001b[0m\u001b[0;34m\u001b[0m\u001b[0;34m\u001b[0m\u001b[0m\n\u001b[0m",
      "\u001b[0;31mKeyboardInterrupt\u001b[0m: "
     ]
    }
   ],
   "source": [
    "from PyQt5 import QtWidgets\n",
    " \n",
    "from mydesign import Ui_MainWindow\n",
    " \n",
    "import sys\n",
    " \n",
    "class mywindow(QtWidgets.QMainWindow):\n",
    " \n",
    "    def __init__(self):\n",
    "    \n",
    "        super(mywindow, self).__init__()\n",
    "        \n",
    "        self.ui = Ui_MainWindow()\n",
    "        \n",
    "        self.ui.setupUi(self)\n",
    "        \n",
    "        self.ui.comboBox.addItem(\"First item\") #add item\n",
    "        \n",
    "        self.ui.comboBox.addItem(\"Second item\")\n",
    "        for i in range(self.ui.comboBox.count()):\n",
    "            print(self.ui.comboBox.itemText(i))\n",
    " \n",
    " \n",
    "app = QtWidgets.QApplication([])\n",
    " \n",
    "application = mywindow()\n",
    " \n",
    "application.show()\n",
    "\n",
    "sys.exit(app.exec())"
   ]
  },
  {
   "cell_type": "code",
   "execution_count": 1,
   "metadata": {},
   "outputs": [
    {
     "data": {
      "text/plain": [
       "0"
      ]
     },
     "execution_count": 1,
     "metadata": {},
     "output_type": "execute_result"
    }
   ],
   "source": [
    "import sys\n",
    "from PyQt5.QtWidgets import QApplication, QMainWindow\n",
    "\n",
    "\n",
    "app = QApplication(sys.argv)\n",
    "\n",
    "window = QMainWindow()\n",
    "window.show() # IMPORTANT!!!!! Windows are hidden by default.\n",
    "\n",
    "# Start the event loop.\n",
    "app.exec_()"
   ]
  },
  {
   "cell_type": "markdown",
   "metadata": {},
   "source": [
    "#### Base UI "
   ]
  },
  {
   "cell_type": "code",
   "execution_count": 1,
   "metadata": {},
   "outputs": [
    {
     "name": "stdout",
     "output_type": "stream",
     "text": [
      "0\n"
     ]
    },
    {
     "ename": "SystemExit",
     "evalue": "0",
     "output_type": "error",
     "traceback": [
      "An exception has occurred, use %tb to see the full traceback.\n",
      "\u001b[0;31mSystemExit\u001b[0m\u001b[0;31m:\u001b[0m 0\n"
     ]
    },
    {
     "name": "stderr",
     "output_type": "stream",
     "text": [
      "/usr/local/lib/python3.7/site-packages/IPython/core/interactiveshell.py:3304: UserWarning: To exit: use 'exit', 'quit', or Ctrl-D.\n",
      "  warn(\"To exit: use 'exit', 'quit', or Ctrl-D.\", stacklevel=1)\n"
     ]
    }
   ],
   "source": [
    "from PyQt5 import QtWidgets, QtGui, QtCore\n",
    "from baseUI import Ui_MainWindow\n",
    "import pyqtgraph.exporters\n",
    "import pyqtgraph as pg\n",
    "import numpy as np\n",
    "import sys\n",
    "\n",
    "class mywindow(QtWidgets.QMainWindow):\n",
    "    def __init__(self):\n",
    "        super(mywindow, self).__init__()\n",
    "        self.ui = Ui_MainWindow()\n",
    "        self.ui.setupUi(self)\n",
    "        self.ui.comboBox.addItem(\"Sine signal\")\n",
    "        self.ui.comboBox.addItem(\"Pulse signal\")\n",
    "        self.ui.comboBox.addItem(\"Quadratic signal\")\n",
    "        self.ui.comboBox.addItem(\"Exponential signal\")\n",
    "        self.ui.comboBox.addItem(\"Triangular signal\")\n",
    "        self.ui.comboBox.addItem(\"Pulse seq uence\")\n",
    "        self.ui.comboBox.addItem(\"Linear signal\")\n",
    "        self.ui.comboBox.addItem(\"Square signal\")\n",
    "        self.ui.topLabel.setFont(QtGui.QFont('Oswald', 14))\n",
    "        self.ui.topLabel.setText(\"Welcome, choose a signal bellow\")\n",
    "        self.ui.comboBox.activated.connect(self.signalSelect)\n",
    "        self.ui.pButton.clicked.connect(self.btnClicked)\n",
    "    def signalSelect(self):\n",
    "        selection = self.ui.comboBox.currentText()\n",
    "        if (selection == \"Sine signal\"):\n",
    "            self.ui.L1.setGeometry(QtCore.QRect(1, 1, 130, 130))\n",
    "            self.ui.L1.setFont(QtGui.QFont('Oswald', 14))\n",
    "            self.ui.L1.setAlignment(QtCore.Qt.AlignCenter)\n",
    "            self.ui.L1.setText(\"Amplitude\")\n",
    "            self.ui.L2.setGeometry(QtCore.QRect(139, 1, 130, 130))\n",
    "            self.ui.L2.setFont(QtGui.QFont('Oswald', 14))\n",
    "            self.ui.L2.setAlignment(QtCore.Qt.AlignCenter)\n",
    "            self.ui.L2.setText(\"Frequency\")\n",
    "            self.ui.L3.setFont(QtGui.QFont('Oswald', 14))\n",
    "            self.ui.L3.setGeometry(QtCore.QRect(1, 1, 130, 130))\n",
    "            self.ui.L3.setAlignment(QtCore.Qt.AlignCenter)\n",
    "            self.ui.L3.setText(\"\")\n",
    "        elif (selection == \"Pulse signal\"):\n",
    "            self.ui.L1.setGeometry(QtCore.QRect(1, 1, 130, 130))\n",
    "            self.ui.L1.setFont(QtGui.QFont('Oswald', 14))\n",
    "            self.ui.L1.setAlignment(QtCore.Qt.AlignCenter)\n",
    "            self.ui.L1.setText(\"\")\n",
    "            self.ui.L2.setGeometry(QtCore.QRect(139, 1, 130, 130))\n",
    "            self.ui.L2.setFont(QtGui.QFont('Oswald', 14))\n",
    "            self.ui.L2.setAlignment(QtCore.Qt.AlignCenter)\n",
    "            self.ui.L2.setText(\"\")\n",
    "            self.ui.L3.setFont(QtGui.QFont('Oswald', 14))\n",
    "            self.ui.L3.setGeometry(QtCore.QRect(1, 1, 130, 130))\n",
    "            self.ui.L3.setAlignment(QtCore.Qt.AlignCenter)\n",
    "            self.ui.L3.setText(\"\")\n",
    "        else:\n",
    "            print(0)\n",
    "    def btnClicked(self):\n",
    "        v1 = float(self.ui.LE1.text())\n",
    "        v2 = float(self.ui.LE2.text())\n",
    "        #v3 = float(self.ui.LE3.text())\n",
    "        # set the styling of pyqtgraph\n",
    "        p1 = self.ui.gView.plot(pen=(0,0,0))\n",
    "        # create some data\n",
    "        pointCount = 10000\n",
    "        t = np.linspace(0, 20, 10000, endpoint=False)\n",
    "        sig = v1*np.sin(2*np.pi*v2*t)\n",
    "        # create plot\n",
    "        self.ui.gView.setRange(yRange=[-v1, v1])\n",
    "        self.ui.gView.setRange(xRange=[0, 20])\n",
    "        self.ui.gView.setLabel('left', 'Value', units='V')\n",
    "        self.ui.gView.setLabel('bottom', 'Time', units='s')\n",
    "        plt = p1.setData(t, sig)\n",
    "        \n",
    "app = QtWidgets.QApplication([])\n",
    "application = mywindow()\n",
    "application.show()\n",
    "sys.exit(app.exec())"
   ]
  },
  {
   "cell_type": "code",
   "execution_count": null,
   "metadata": {},
   "outputs": [],
   "source": []
  }
 ],
 "metadata": {
  "kernelspec": {
   "display_name": "Python 3",
   "language": "python",
   "name": "python3"
  },
  "language_info": {
   "codemirror_mode": {
    "name": "ipython",
    "version": 3
   },
   "file_extension": ".py",
   "mimetype": "text/x-python",
   "name": "python",
   "nbconvert_exporter": "python",
   "pygments_lexer": "ipython3",
   "version": "3.7.4"
  }
 },
 "nbformat": 4,
 "nbformat_minor": 2
}
